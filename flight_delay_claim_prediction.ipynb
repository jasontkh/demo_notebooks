{
 "cells": [
  {
   "cell_type": "markdown",
   "metadata": {},
   "source": [
    "# The problem :"
   ]
  },
  {
   "cell_type": "markdown",
   "metadata": {},
   "source": [
    "Given a data set with flight delay claims from 2013/01 to 2016/07. The goal is to predict claim amount for future flights.  Mathematically, minimize:\n",
    "\n",
    "$\\sum(Actual\\ claim\\ amount - Predicted\\ claim\\ amount)^2$\n",
    "\n",
    "It is also assumed that every claim is $800. ie. For every flight, the insurance company pay either 0(no claim) or 800(claimed)."
   ]
  },
  {
   "cell_type": "code",
   "execution_count": 1,
   "metadata": {},
   "outputs": [],
   "source": [
    "%matplotlib inline\n",
    "\n",
    "import requests\n",
    "import os\n",
    "import pandas as pd\n",
    "import matplotlib.pyplot as plt\n",
    "import seaborn as sns\n",
    "import math\n",
    "from sklearn.ensemble import RandomForestRegressor\n",
    "from math import cos, sin, tan, atan\n",
    "from imblearn.over_sampling import SMOTE \n",
    "from sklearn.preprocessing import LabelEncoder\n",
    "from sklearn.preprocessing import OneHotEncoder\n",
    "from numpy import array\n",
    "from numpy import argmax\n",
    "from keras.utils import to_categorical\n",
    "import numpy as np\n",
    "from sklearn.model_selection import train_test_split\n",
    "from sklearn.metrics import confusion_matrix\n",
    "\n",
    "num_cpus = 31\n",
    "\n",
    "PAYABLE_ON_CLAIM = 800\n",
    "\n",
    "pd.options.display.max_rows = 10"
   ]
  },
  {
   "cell_type": "markdown",
   "metadata": {},
   "source": [
    "### Prepare raw data"
   ]
  },
  {
   "cell_type": "code",
   "execution_count": 2,
   "metadata": {},
   "outputs": [],
   "source": [
    "data_path = 'data/flight_delays_data.csv'\n",
    "\n",
    "if not os.path.exists(data_path):\n",
    "\n",
    "    url = \"https://www.dropbox.com/s/6marc0211lp4kg5/flight_delays_data.zip?dl=1\"\n",
    "\n",
    "    response = requests.get(url, stream=True)\n",
    "\n",
    "    # Throw an error for bad status codes\n",
    "    response.raise_for_status()\n",
    "\n",
    "    with open('data/flight_delays_data.zip', 'wb') as handle:\n",
    "        for block in response.iter_content(1024):\n",
    "            handle.write(block)\n",
    "\n",
    "    os.system(\"unzip data/flight_delays_data.zip -d data\")\n",
    "    os.system(\"rm -rf data/__MACOSX/\")\n",
    "\n",
    "raw_data_df = pd.read_csv(data_path)"
   ]
  },
  {
   "cell_type": "code",
   "execution_count": 3,
   "metadata": {},
   "outputs": [],
   "source": [
    "# Supplymentary information: airport location\n",
    "\n",
    "data_path = 'data/airport_info.csv'\n",
    "\n",
    "if not os.path.exists(data_path):\n",
    "\n",
    "    url = \"https://raw.githubusercontent.com/jpatokal/openflights/master/data/airports.dat\"\n",
    "\n",
    "    response = requests.get(url, stream=True)\n",
    "\n",
    "    # Throw an error for bad status codes\n",
    "    response.raise_for_status()\n",
    "\n",
    "    with open(data_path, 'wb') as handle:\n",
    "        for block in response.iter_content(1024):\n",
    "            handle.write(block)\n",
    "\n",
    "airport_info_df = pd.read_csv(data_path, \n",
    "                              names=[\"idx\", \"name\", \"location\", \"country\", \"code\", \"code2\", \"lat\", \"lng\", \"8\", \"9\", \"10\", \"11\", \"12\", \"13\"],\n",
    "                              index_col=0\n",
    "                             )"
   ]
  },
  {
   "cell_type": "code",
   "execution_count": 4,
   "metadata": {},
   "outputs": [],
   "source": [
    "def latlng_to_3d_pointer(lat, lon, alt=0, rad=1):\n",
    "    # see: http://www.mathworks.de/help/toolbox/aeroblks/llatoecefposition.html\n",
    "    f  = 0                              # flattening\n",
    "    ls = atan((1 - f)**2 * tan(lat))    # lambda\n",
    "\n",
    "    x = rad * cos(ls) * cos(lon) + alt * cos(lat) * cos(lon)\n",
    "    y = rad * cos(ls) * sin(lon) + alt * cos(lat) * sin(lon)\n",
    "    z = rad * sin(ls) + alt * sin(lat)\n",
    "\n",
    "    return (x, y, z)"
   ]
  },
  {
   "cell_type": "code",
   "execution_count": 5,
   "metadata": {},
   "outputs": [],
   "source": [
    "airport_3d_pointer_dict = dict()\n",
    "for idx, row in airport_info_df.iterrows():\n",
    "    code = row.code\n",
    "    lat = row.lat\n",
    "    lng = row.lng\n",
    "    airport_3d_pointer_dict[code] = latlng_to_3d_pointer(lat, lng)\n",
    "# Add missing\n",
    "airport_3d_pointer_dict['DOH'] = latlng_to_3d_pointer(25.261100769, 51.5651016235)\n",
    "airport_3d_pointer_dict['HYD'] = latlng_to_3d_pointer(17.24, 78.43)"
   ]
  },
  {
   "cell_type": "markdown",
   "metadata": {},
   "source": [
    "### Understanding the dataset"
   ]
  },
  {
   "cell_type": "code",
   "execution_count": 6,
   "metadata": {},
   "outputs": [
    {
     "data": {
      "text/html": [
       "<div>\n",
       "<style scoped>\n",
       "    .dataframe tbody tr th:only-of-type {\n",
       "        vertical-align: middle;\n",
       "    }\n",
       "\n",
       "    .dataframe tbody tr th {\n",
       "        vertical-align: top;\n",
       "    }\n",
       "\n",
       "    .dataframe thead th {\n",
       "        text-align: right;\n",
       "    }\n",
       "</style>\n",
       "<table border=\"1\" class=\"dataframe\">\n",
       "  <thead>\n",
       "    <tr style=\"text-align: right;\">\n",
       "      <th></th>\n",
       "      <th>flight_id</th>\n",
       "      <th>flight_no</th>\n",
       "      <th>Week</th>\n",
       "      <th>Departure</th>\n",
       "      <th>Arrival</th>\n",
       "      <th>Airline</th>\n",
       "      <th>std_hour</th>\n",
       "      <th>delay_time</th>\n",
       "      <th>flight_date</th>\n",
       "      <th>is_claim</th>\n",
       "    </tr>\n",
       "  </thead>\n",
       "  <tbody>\n",
       "    <tr>\n",
       "      <th>0</th>\n",
       "      <td>1582499</td>\n",
       "      <td>UO686</td>\n",
       "      <td>27</td>\n",
       "      <td>HKG</td>\n",
       "      <td>KIX</td>\n",
       "      <td>UO</td>\n",
       "      <td>10</td>\n",
       "      <td>0.4</td>\n",
       "      <td>2016-07-01</td>\n",
       "      <td>0</td>\n",
       "    </tr>\n",
       "    <tr>\n",
       "      <th>1</th>\n",
       "      <td>1582501</td>\n",
       "      <td>CI7868</td>\n",
       "      <td>17</td>\n",
       "      <td>HKG</td>\n",
       "      <td>TNN</td>\n",
       "      <td>CI</td>\n",
       "      <td>11</td>\n",
       "      <td>0.5</td>\n",
       "      <td>2015-04-23</td>\n",
       "      <td>0</td>\n",
       "    </tr>\n",
       "    <tr>\n",
       "      <th>2</th>\n",
       "      <td>1582504</td>\n",
       "      <td>PR301</td>\n",
       "      <td>14</td>\n",
       "      <td>HKG</td>\n",
       "      <td>MNL</td>\n",
       "      <td>PR</td>\n",
       "      <td>11</td>\n",
       "      <td>0.0</td>\n",
       "      <td>2014-04-08</td>\n",
       "      <td>0</td>\n",
       "    </tr>\n",
       "  </tbody>\n",
       "</table>\n",
       "</div>"
      ],
      "text/plain": [
       "   flight_id flight_no  Week Departure Arrival Airline  std_hour delay_time  \\\n",
       "0    1582499     UO686    27       HKG     KIX      UO        10        0.4   \n",
       "1    1582501    CI7868    17       HKG     TNN      CI        11        0.5   \n",
       "2    1582504     PR301    14       HKG     MNL      PR        11        0.0   \n",
       "\n",
       "  flight_date  is_claim  \n",
       "0  2016-07-01         0  \n",
       "1  2015-04-23         0  \n",
       "2  2014-04-08         0  "
      ]
     },
     "execution_count": 6,
     "metadata": {},
     "output_type": "execute_result"
    }
   ],
   "source": [
    "raw_data_df.head(3)"
   ]
  },
  {
   "cell_type": "code",
   "execution_count": 7,
   "metadata": {},
   "outputs": [
    {
     "data": {
      "text/plain": [
       "HKG    899114\n",
       "Name: Departure, dtype: int64"
      ]
     },
     "execution_count": 7,
     "metadata": {},
     "output_type": "execute_result"
    }
   ],
   "source": [
    "# From where these flights depart?\n",
    "raw_data_df.Departure.value_counts()"
   ]
  },
  {
   "cell_type": "code",
   "execution_count": 8,
   "metadata": {},
   "outputs": [
    {
     "data": {
      "text/plain": [
       "TPE    75751\n",
       "PVG    61598\n",
       "BKK    49730\n",
       "PEK    45161\n",
       "SIN    44720\n",
       "       ...  \n",
       "SPN       10\n",
       "XNN        6\n",
       "JHG        3\n",
       "DTW        3\n",
       "LGA        1\n",
       "Name: Arrival, Length: 163, dtype: int64"
      ]
     },
     "execution_count": 8,
     "metadata": {},
     "output_type": "execute_result"
    }
   ],
   "source": [
    "# Where are these flights going?\n",
    "raw_data_df.Arrival.value_counts()"
   ]
  },
  {
   "cell_type": "code",
   "execution_count": 9,
   "metadata": {},
   "outputs": [
    {
     "data": {
      "text/plain": [
       "0      859701\n",
       "800     39413\n",
       "Name: is_claim, dtype: int64"
      ]
     },
     "execution_count": 9,
     "metadata": {},
     "output_type": "execute_result"
    }
   ],
   "source": [
    "# How many flight is claimed?\n",
    "raw_data_df.is_claim.value_counts()"
   ]
  },
  {
   "cell_type": "code",
   "execution_count": 10,
   "metadata": {},
   "outputs": [
    {
     "data": {
      "text/plain": [
       "<matplotlib.axes._subplots.AxesSubplot at 0x7f5bf4fe1d68>"
      ]
     },
     "execution_count": 10,
     "metadata": {},
     "output_type": "execute_result"
    },
    {
     "data": {
      "image/png": "[encoded data removed]",
      "text/plain": [
       "<Figure size 432x288 with 1 Axes>"
      ]
     },
     "metadata": {
      "needs_background": "light"
     },
     "output_type": "display_data"
    }
   ],
   "source": [
    "# When do flights take off?\n",
    "raw_data_df.std_hour.hist(bins=24)"
   ]
  },
  {
   "cell_type": "code",
   "execution_count": 11,
   "metadata": {},
   "outputs": [
    {
     "data": {
      "text/plain": [
       "flight_id         0\n",
       "flight_no         0\n",
       "Week              0\n",
       "Departure         0\n",
       "Arrival           0\n",
       "Airline        1714\n",
       "std_hour          0\n",
       "delay_time        0\n",
       "flight_date       0\n",
       "is_claim          0\n",
       "dtype: int64"
      ]
     },
     "execution_count": 11,
     "metadata": {},
     "output_type": "execute_result"
    }
   ],
   "source": [
    "### Detect rows that with incomplete data\n",
    "raw_data_df.isnull().sum()"
   ]
  },
  {
   "cell_type": "code",
   "execution_count": 12,
   "metadata": {},
   "outputs": [],
   "source": [
    "### Fix the incomplete data\n",
    "\n",
    "cleaned_data_df = raw_data_df.fillna(\"unknown\")"
   ]
  },
  {
   "cell_type": "markdown",
   "metadata": {},
   "source": [
    "### Let's try some machine learning ;)  -- First let's prepare the feature Vectors"
   ]
  },
  {
   "cell_type": "code",
   "execution_count": 13,
   "metadata": {},
   "outputs": [
    {
     "data": {
      "text/plain": [
       "(899114, 123)"
      ]
     },
     "execution_count": 13,
     "metadata": {},
     "output_type": "execute_result"
    }
   ],
   "source": [
    "# Encode Airline\n",
    "airline_label_encoder = LabelEncoder()\n",
    "integer_encoded_airline = airline_label_encoder.fit_transform(cleaned_data_df.Airline)\n",
    "onehot_encoded_airline = to_categorical(integer_encoded_airline)\n",
    "onehot_encoded_airline.shape"
   ]
  },
  {
   "cell_type": "code",
   "execution_count": 14,
   "metadata": {},
   "outputs": [
    {
     "data": {
      "text/plain": [
       "(899114, 24)"
      ]
     },
     "execution_count": 14,
     "metadata": {},
     "output_type": "execute_result"
    }
   ],
   "source": [
    "# Encode std_hr\n",
    "onehot_std_hr = to_categorical(cleaned_data_df.std_hour, num_classes=24)\n",
    "onehot_std_hr.shape"
   ]
  },
  {
   "cell_type": "code",
   "execution_count": 15,
   "metadata": {},
   "outputs": [
    {
     "data": {
      "text/plain": [
       "(899114, 3)"
      ]
     },
     "execution_count": 15,
     "metadata": {},
     "output_type": "execute_result"
    }
   ],
   "source": [
    "# Encode destination airport\n",
    "airport_in_3d_space_encoded = np.stack(cleaned_data_df.Arrival.apply(lambda value: airport_3d_pointer_dict[value]).values, axis=0)\n",
    "airport_in_3d_space_encoded.shape"
   ]
  },
  {
   "cell_type": "code",
   "execution_count": 16,
   "metadata": {},
   "outputs": [
    {
     "data": {
      "text/plain": [
       "(899114, 53)"
      ]
     },
     "execution_count": 16,
     "metadata": {},
     "output_type": "execute_result"
    }
   ],
   "source": [
    "# Encode week\n",
    "week_encoded = to_categorical(cleaned_data_df.Week, num_classes=53)\n",
    "week_encoded.shape"
   ]
  },
  {
   "cell_type": "code",
   "execution_count": 17,
   "metadata": {},
   "outputs": [],
   "source": [
    "# HStack the encoded vectors\n",
    "X = np.hstack([\n",
    "    onehot_encoded_airline, \n",
    "    onehot_std_hr,\n",
    "    airport_in_3d_space_encoded,\n",
    "    week_encoded\n",
    "])\n",
    "Y = [0 if is_claim == 0 else 1 for is_claim in cleaned_data_df.is_claim]\n",
    "\n",
    "# Create training set and testing set\n",
    "X_train, X_test, Y_train, Y_test = train_test_split(X,Y)"
   ]
  },
  {
   "cell_type": "markdown",
   "metadata": {},
   "source": [
    "### Establish the baseline\n",
    "##### Find the optimal claim amount while no model is involved"
   ]
  },
  {
   "cell_type": "markdown",
   "metadata": {},
   "source": [
    "\n",
    "Remember our optimization target:\n",
    "\n",
    "$\n",
    "    \\sum(Actual\\ claim\\ amount - Predicted\\ claim\\ amount)^2\n",
    "$\n",
    "\n",
    "\n",
    "Assume all flight have the same probability of delay, then the optimal price is to find x such that y minimize in this equation:\n",
    "\n",
    "$y = (1-p)x^2 + p(800 - x)^2 $\n",
    "where$\\ p\\$ is the probability of delay.\n",
    "\n",
    "Using property of quadratic equation: $y$ is minimized at $-b/2a$ where $a = 1, b=-800*2*p$"
   ]
  },
  {
   "cell_type": "code",
   "execution_count": 18,
   "metadata": {},
   "outputs": [],
   "source": [
    "def claim_amount_based_on_probability_of_delay(p):\n",
    "    # Setting the price by finding the minimum of y = (1-p)x^2 + p*((800 - x)^2) where p is the probability of delay.\n",
    "    b = (-PAYABLE_ON_CLAIM*2*p)      # The b in quadratic equation\n",
    "    a = 1                            # the a in quadratic equation\n",
    "    minimun_x = -b/2*a               # -b/2a is the x position of local minimum\n",
    "    return minimun_x"
   ]
  },
  {
   "cell_type": "code",
   "execution_count": 19,
   "metadata": {},
   "outputs": [],
   "source": [
    "def calculate_optimization_target(claim_amount, label_set):  # claim amount can be a scala or a list\n",
    "    \n",
    "    # RMS is used instead of MS, just to make the number smaller,\n",
    "    # easier to compare.\n",
    "    \n",
    "    RMS = int(math.sqrt(np.square(array(label_set) * PAYABLE_ON_CLAIM - claim_amount).sum()))\n",
    "    return RMS"
   ]
  },
  {
   "cell_type": "code",
   "execution_count": 20,
   "metadata": {},
   "outputs": [
    {
     "name": "stdout",
     "output_type": "stream",
     "text": [
      "baseline_value (Every flight expect to claim 35.07): 76,985\n"
     ]
    }
   ],
   "source": [
    "# While not segmenting the flights into groups, p = 39,413/899,114 (# delayed / # total flights)\n",
    "\n",
    "p = 39413/899114\n",
    "baseline_claim_amount = claim_amount_based_on_probability_of_delay(p)\n",
    "baseline_opt_value = calculate_optimization_target(baseline_claim_amount, Y_test)\n",
    "\n",
    "print(\"baseline_value (Every flight expect to claim {:.2f}): {:,}\".format(baseline_claim_amount, baseline_opt_value))"
   ]
  },
  {
   "cell_type": "markdown",
   "metadata": {},
   "source": [
    "### Problem of our dataset\n",
    "\n",
    "1. The dataset we have is very biasd - normal:delayed = 22:1\n",
    "\n",
    "#### Why is it a problem? \n",
    "Let's think of a scenario:  \n",
    "We stupidly predict all flights NOT delayed.  \n",
    "Accuracy is already very high.  \n",
    "(As high as 1 - 39,433/899,114 = 95.6%)  \n",
    "Models can hardly converge."
   ]
  },
  {
   "cell_type": "markdown",
   "metadata": {},
   "source": [
    "### Let's try to solve the imbalance problem"
   ]
  },
  {
   "cell_type": "code",
   "execution_count": 21,
   "metadata": {},
   "outputs": [],
   "source": [
    "# Over sample our training set.\n",
    "sm = SMOTE(random_state=42)\n",
    "X_train_SMOTE, Y_train_SMOTE = sm.fit_sample(X_train, Y_train)"
   ]
  },
  {
   "cell_type": "code",
   "execution_count": 22,
   "metadata": {},
   "outputs": [],
   "source": [
    "X_train_SMOTE_small, _, Y_train_SMOTE_small, _ = train_test_split(X_train_SMOTE, Y_train_SMOTE, shuffle=True, test_size=0.5)"
   ]
  },
  {
   "cell_type": "markdown",
   "metadata": {},
   "source": [
    "### Use Random Forest as model to give a score to indicate the likelyhood of flight delay"
   ]
  },
  {
   "cell_type": "code",
   "execution_count": 23,
   "metadata": {},
   "outputs": [],
   "source": [
    "# Instantiate model with 500 decision trees\n",
    "rf_smote = RandomForestRegressor(n_estimators = 500, random_state = 42, n_jobs=num_cpus)\n",
    "# Train the model on training data\n",
    "rf_smote.fit(X_train_SMOTE_small, Y_train_SMOTE_small)"
   ]
  },
  {
   "cell_type": "code",
   "execution_count": 24,
   "metadata": {},
   "outputs": [
    {
     "data": {
      "text/plain": [
       "array([[199867,  15235],\n",
       "       [  5256,   4421]])"
      ]
     },
     "execution_count": 24,
     "metadata": {},
     "output_type": "execute_result"
    },
    {
     "data": {
      "image/png": "[encoded data removed]",
      "text/plain": [
       "<Figure size 360x288 with 2 Axes>"
      ]
     },
     "metadata": {},
     "output_type": "display_data"
    }
   ],
   "source": [
    "# Simple Evaluation using confusion matrix.\n",
    "\n",
    "_pred = rf_smote.predict(X_test)\n",
    "Y_pred = (_pred > 0.5)\n",
    "plt.figure(figsize = (5,4))\n",
    "cm = confusion_matrix(Y_test, Y_pred)\n",
    "sns.heatmap(cm, annot = True, fmt='g')\n",
    "plt.title('Confusion matrix')\n",
    "plt.ylabel('True label')\n",
    "plt.xlabel('Predicted label')\n",
    "cm"
   ]
  },
  {
   "cell_type": "markdown",
   "metadata": {},
   "source": [
    "### Segment flights into groups according to the score given to each flight by our model.\n",
    "#### Get the sampled probability of delay for every segments."
   ]
  },
  {
   "cell_type": "code",
   "execution_count": 25,
   "metadata": {},
   "outputs": [],
   "source": [
    "# We select the dataset and model to run\n",
    "\n",
    "model = rf_smote\n",
    "_X = X_train\n",
    "_Y = Y_train"
   ]
  },
  {
   "cell_type": "code",
   "execution_count": 26,
   "metadata": {},
   "outputs": [],
   "source": [
    "_pred = model.predict(X_train)"
   ]
  },
  {
   "cell_type": "code",
   "execution_count": 27,
   "metadata": {},
   "outputs": [],
   "source": [
    "# Prob means the Sample Probability. ie. The probability is calculated from actual samples.\n",
    "\n",
    "# score -> prob\n",
    "score_to_prob_list = []\n",
    "score_to_count_list = []\n",
    "step = 0.1\n",
    "\n",
    "# Cut it into ten group according to the score, and obtained the sample probability of delay.\n",
    "# ie. Group 1 : scores in (0.0 - 0.1]  | Delay Probability = __\n",
    "#     Group 2 : scores in (0.1 - 0.2]  | Delay Probability = __\n",
    "#     Group 3 : scores in (0.2 - 0.3]  | Delay Probability = __\n",
    "\n",
    "for cut in np.arange(0.0, 1, step):\n",
    "    sample_in_p_range = ((_pred > cut) & (_pred <= cut + step)).reshape(-1)\n",
    "    number_of_sample_in_range = sample_in_p_range.sum()\n",
    "    number_of_positive_in_range = (np.array(_Y) * sample_in_p_range ).sum()\n",
    "    probability_of_positive_in_range = number_of_positive_in_range/number_of_sample_in_range\n",
    "    score_to_prob_list.append((cut, probability_of_positive_in_range))\n",
    "    score_to_count_list.append((cut, number_of_sample_in_range))"
   ]
  },
  {
   "cell_type": "code",
   "execution_count": 28,
   "metadata": {},
   "outputs": [
    {
     "data": {
      "image/png": "[encoded data removed]",
      "text/plain": [
       "<Figure size 432x288 with 1 Axes>"
      ]
     },
     "metadata": {},
     "output_type": "display_data"
    }
   ],
   "source": [
    "plt.scatter(*zip(*score_to_prob_list))\n",
    "plt.title(\"Score vs Probability of delay\")\n",
    "plt.xlabel(\"Score\")\n",
    "plt.ylabel(\"Probability of delay\")\n",
    "plt.show()"
   ]
  },
  {
   "cell_type": "code",
   "execution_count": 29,
   "metadata": {},
   "outputs": [
    {
     "data": {
      "image/png": "[encoded data removed]",
      "text/plain": [
       "<Figure size 432x288 with 1 Axes>"
      ]
     },
     "metadata": {},
     "output_type": "display_data"
    }
   ],
   "source": [
    "plt.scatter(*zip(*score_to_count_list))\n",
    "plt.title(\"Score vs Number of flight in the group\")\n",
    "plt.xlabel(\"Score\")\n",
    "plt.ylabel(\"Count flight\")\n",
    "plt.show()"
   ]
  },
  {
   "cell_type": "markdown",
   "metadata": {},
   "source": [
    "### Try to apply the new price and compare with the baseline value"
   ]
  },
  {
   "cell_type": "code",
   "execution_count": 30,
   "metadata": {},
   "outputs": [],
   "source": [
    "def score_to_prob(score):\n",
    "    for score_cut, prob in score_to_prob_list:\n",
    "        if score <= score_cut + step:\n",
    "            return prob\n",
    "    return 1"
   ]
  },
  {
   "cell_type": "code",
   "execution_count": 31,
   "metadata": {},
   "outputs": [],
   "source": [
    "per_flight_probability_of_delay = array(list(map(score_to_prob, _pred))).reshape(-1)"
   ]
  },
  {
   "cell_type": "code",
   "execution_count": 32,
   "metadata": {},
   "outputs": [],
   "source": [
    "price_list = array(list(map(claim_amount_based_on_probability_of_delay, per_flight_probability_of_delay)))"
   ]
  },
  {
   "cell_type": "code",
   "execution_count": 33,
   "metadata": {},
   "outputs": [
    {
     "name": "stdout",
     "output_type": "stream",
     "text": [
      "Optimization target: 119,337(Modelled); 134,877(Baseline)\n"
     ]
    }
   ],
   "source": [
    "# Calculate the optimization target, compare with baseline\n",
    "modelled = calculate_optimization_target(price_list, Y_train)\n",
    "baseline = calculate_optimization_target(baseline_claim_amount, Y_train)\n",
    "print(\"Optimization target: {:,}(Modelled); {:,}(Baseline)\".format(modelled, baseline))"
   ]
  },
  {
   "cell_type": "markdown",
   "metadata": {},
   "source": [
    "### Publishing the model"
   ]
  },
  {
   "cell_type": "code",
   "execution_count": 34,
   "metadata": {},
   "outputs": [],
   "source": [
    "class FlightClaimAmountPredictor:\n",
    "    def __init__(self, airline_label_encoder, airline_count, airport_3d_pointer_dict, model, score_to_prob_list):\n",
    "        self.airline_label_encoder = airline_label_encoder\n",
    "        self.airline_count = airline_count\n",
    "        self.airport_3d_pointer_dict = airport_3d_pointer_dict\n",
    "        self.model = model\n",
    "        self.score_to_prob_list = score_to_prob_list\n",
    "        \n",
    "    def pred_to_prob(self, score):\n",
    "        score_to_prob_list = self.score_to_prob_list\n",
    "        for score_cut, prob in score_to_prob_list:\n",
    "            if score <= score_cut + step:\n",
    "                return prob\n",
    "        return 1\n",
    "    \n",
    "    def claim_amount_based_on_probability_of_delay(self, p, uniform_claim_amount=800):\n",
    "        # Setting the price by finding the minimum of y = x^2 + p*((800 - x)^2) where p is the probability of delay.\n",
    "        b = (-2*uniform_claim_amount*p)      # The b in quadratic equation\n",
    "        a = 1                                # the a in quadratic equation\n",
    "        minimun_x = -b/2*a                   # -b/2a is the x position of local minimum\n",
    "        return minimun_x\n",
    "        \n",
    "    def predict(self, input_df):\n",
    "        airline_label_encoder = self.airline_label_encoder\n",
    "        airport_3d_pointer_dict = self.airport_3d_pointer_dict\n",
    "        model = self.model\n",
    "        \n",
    "        input_df = input_df.fillna(\"unknown\")        \n",
    "        \n",
    "        # Encode airline\n",
    "        integer_encoded_airline = airline_label_encoder.transform(input_df.Airline)\n",
    "        onehot_encoded_airline = to_categorical(integer_encoded_airline, num_classes=self.airline_count)\n",
    "\n",
    "        # Encode std_hr\n",
    "        onehot_std_hr = to_categorical(input_df.std_hour, num_classes=24)\n",
    "\n",
    "        # Encode airport\n",
    "        airport_in_3d_space_encoded = np.stack(input_df.Arrival.apply(lambda value: airport_3d_pointer_dict[value]).values, axis=0)\n",
    "\n",
    "        # Encode week\n",
    "        week_encoded = to_categorical(input_df.Week, num_classes=53)\n",
    "        \n",
    "        X = np.hstack([\n",
    "            onehot_encoded_airline, \n",
    "            onehot_std_hr,\n",
    "            airport_in_3d_space_encoded,\n",
    "            week_encoded\n",
    "        ])\n",
    "        _pred = model.predict(X)\n",
    "        \n",
    "        output = []\n",
    "        \n",
    "        for model_score in _pred:\n",
    "            prob = self.pred_to_prob(model_score)\n",
    "            claim_amount = self.claim_amount_based_on_probability_of_delay(prob)\n",
    "            output.append(claim_amount)\n",
    "            \n",
    "        return array(output)\n",
    "        "
   ]
  },
  {
   "cell_type": "code",
   "execution_count": 35,
   "metadata": {},
   "outputs": [],
   "source": [
    "predictor = FlightClaimAmountPredictor(\n",
    "    airline_label_encoder=airline_label_encoder, \n",
    "    airline_count=onehot_encoded_airline.shape[1],\n",
    "    airport_3d_pointer_dict=airport_3d_pointer_dict, \n",
    "    model=rf_smote, \n",
    "    score_to_prob_list=score_to_prob_list\n",
    ")"
   ]
  },
  {
   "cell_type": "markdown",
   "metadata": {},
   "source": [
    "### Let's try the prediction on the whole set of data \n",
    "### (To test the model with another set of data, just replace the input dataframe here)"
   ]
  },
  {
   "cell_type": "code",
   "execution_count": 36,
   "metadata": {},
   "outputs": [],
   "source": [
    "sampledf = raw_data_df\n",
    "prediction = predictor.predict(sampledf)\n",
    "sampledf['predicted_claim_amount'] = prediction"
   ]
  },
  {
   "cell_type": "code",
   "execution_count": 37,
   "metadata": {},
   "outputs": [],
   "source": [
    "sum_squared_error = int(np.square(sampledf.is_claim - sampledf.predicted_claim_amount).sum())"
   ]
  },
  {
   "cell_type": "code",
   "execution_count": 38,
   "metadata": {},
   "outputs": [],
   "source": [
    "baseline_squared_error = int(np.square(sampledf.is_claim - baseline_claim_amount).sum())"
   ]
  },
  {
   "cell_type": "code",
   "execution_count": 39,
   "metadata": {},
   "outputs": [
    {
     "name": "stdout",
     "output_type": "stream",
     "text": [
      "Optimization target (Mean-squared): 19,667,517,877(Modelled); 24,118,602,455(Baseline)\n"
     ]
    }
   ],
   "source": [
    "print(\"Optimization target (Mean-squared): {:,}(Modelled); {:,}(Baseline)\".format(sum_squared_error, baseline_squared_error))"
   ]
  },
  {
   "cell_type": "markdown",
   "metadata": {},
   "source": [
    "### Enhancement Directions \n",
    "\n",
    "1. This model aimed at optimizing the mean squared error.  Next step: explore other optimization targets.\n",
    "2. Only class (delayed or not) is used as labels for training.  Next step: use delayed time as labels, make prediction on delayed time before predicting the actualy claim amount.\n",
    "3. Random Forest is used as the core part of prediction.  Next step: try different models."
   ]
  }
 ],
 "metadata": {
  "kernelspec": {
   "display_name": "Python 3",
   "language": "python",
   "name": "python3"
  },
  "language_info": {
   "codemirror_mode": {
    "name": "ipython",
    "version": 3
   },
   "file_extension": ".py",
   "mimetype": "text/x-python",
   "name": "python",
   "nbconvert_exporter": "python",
   "pygments_lexer": "ipython3",
   "version": "3.6.5"
  }
 },
 "nbformat": 4,
 "nbformat_minor": 2
}
