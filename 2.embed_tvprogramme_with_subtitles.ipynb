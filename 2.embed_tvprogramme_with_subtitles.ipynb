{
 "cells": [
  {
   "cell_type": "code",
   "execution_count": 1,
   "metadata": {},
   "outputs": [],
   "source": [
    "import pandas as pd\n",
    "import gensim\n",
    "from gensim import models\n",
    "import sys\n",
    "import glob\n",
    "import os\n",
    "import pickle\n",
    "from gensim.similarities.docsim import SparseMatrixSimilarity\n",
    "\n",
    "pd.options.display.max_rows = 10"
   ]
  },
  {
   "cell_type": "markdown",
   "metadata": {},
   "source": [
    "##### --- Download stage skipped ---"
   ]
  },
  {
   "cell_type": "markdown",
   "metadata": {},
   "source": [
    "##### --- Cleaning stage skipped ---"
   ]
  },
  {
   "cell_type": "markdown",
   "metadata": {},
   "source": [
    "##### --- Tokenizing stage skipped ---"
   ]
  },
  {
   "cell_type": "markdown",
   "metadata": {},
   "source": [
    "##### --- Grouping stage skipped ---"
   ]
  },
  {
   "cell_type": "code",
   "execution_count": 2,
   "metadata": {},
   "outputs": [
    {
     "data": {
      "text/plain": [
       "programme_id\n",
       "5614401466    [阿柔, 阿柔, 之前, 是, 迫不得已, 才, 揭, 你, 陰私, 我, 不是, 想, 傷...\n",
       "4066115555    [早安, 你, 繼續, 睡, 吧, 你, 沒, 必要, 特地, 起床, 幫, 我, 釘, 畫...\n",
       "1753567166    [尋龍記, 一億年, 角龍, 的, 世界, 即, 將展, 開, 一億, 年前, 在, 這片,...\n",
       "3005551154    [朗, 翹, 我少, 說, 也, 做, 了, 全職, 主婦, 有, 七年, 了, 不過, 我...\n",
       "3561536243    [月桂, 樹西, 裝店, 第, 10, 集, 爸爸, 好久, 不見, 了, 是, 我, 錯,...\n",
       "                                    ...                        \n",
       "2110232460    [二師兄, 師嫂, 看見, 你們, 真, 好, 你, 為, 何在, 這兒, 師父, 叫, 我...\n",
       "2446564632    [詩經, 說, 到, 八月, 剝棗, 十月, 獲稻, 在, 稻熟, 之前, 以, 稻田, 落...\n",
       "2173235267    [想念, 你, 我, 再也, 不會, 假裝, 不, 認識, 你, 了, 知道, 嗎, 我, ...\n",
       "2133252602    [美食, 任務前, 進桃園, 帶, 你, 發掘, 三種, 好, 味道, 異國, 故鄉, 好,...\n",
       "2070600742    [仁哥, 吃, 什麼, 早餐, Ｄ, 熱, 咖啡, 謝謝, 好, 知道, 最, 後, 一份,...\n",
       "Name: tokens, Length: 100, dtype: object"
      ]
     },
     "execution_count": 2,
     "metadata": {},
     "output_type": "execute_result"
    }
   ],
   "source": [
    "# As for demo usage, only 100 programmes are included.\n",
    "\n",
    "documents = pickle.load(open(\"data/tokensdf.pickle.df\", 'rb'))\n",
    "documents"
   ]
  },
  {
   "cell_type": "markdown",
   "metadata": {},
   "source": [
    "### Create the dictionary of the corpus"
   ]
  },
  {
   "cell_type": "code",
   "execution_count": 3,
   "metadata": {},
   "outputs": [],
   "source": [
    "dictionary = gensim.corpora.Dictionary(documents)"
   ]
  },
  {
   "cell_type": "code",
   "execution_count": 4,
   "metadata": {},
   "outputs": [],
   "source": [
    "dictionary.filter_extremes(no_above=0.5)"
   ]
  },
  {
   "cell_type": "code",
   "execution_count": 5,
   "metadata": {},
   "outputs": [],
   "source": [
    "# dictionary.save('gensim.dictionary')"
   ]
  },
  {
   "cell_type": "markdown",
   "metadata": {},
   "source": [
    "### Create bag-of-word formatted corpus"
   ]
  },
  {
   "cell_type": "code",
   "execution_count": 6,
   "metadata": {},
   "outputs": [],
   "source": [
    "bow_corpus = [dictionary.doc2bow(doc) for doc in documents]"
   ]
  },
  {
   "cell_type": "markdown",
   "metadata": {},
   "source": [
    "### Go thru TF-IDF layer"
   ]
  },
  {
   "cell_type": "code",
   "execution_count": 7,
   "metadata": {},
   "outputs": [],
   "source": [
    "tfidf = models.TfidfModel(bow_corpus)\n",
    "corpus_tfidf = tfidf[bow_corpus]"
   ]
  },
  {
   "cell_type": "code",
   "execution_count": 8,
   "metadata": {},
   "outputs": [],
   "source": [
    "# tfidf.save('tfidf.model')"
   ]
  },
  {
   "cell_type": "markdown",
   "metadata": {},
   "source": [
    "### Train the LDA model"
   ]
  },
  {
   "cell_type": "code",
   "execution_count": 10,
   "metadata": {},
   "outputs": [
    {
     "name": "stderr",
     "output_type": "stream",
     "text": [
      "/usr/local/lib/python3.6/dist-packages/gensim/models/ldamodel.py:1023: RuntimeWarning: divide by zero encountered in log\n",
      "  diff = np.log(self.expElogbeta)\n"
     ]
    }
   ],
   "source": [
    "lda_model = gensim.models.LdaMulticore(\n",
    "    corpus_tfidf, \n",
    "    num_topics=100,      # Increase the number of topics in real case.\n",
    "    id2word=dictionary, \n",
    "    passes=2,            # Increase the number of passes in real case.\n",
    "    iterations=200,      # Increase the number of iterations in real case.\n",
    "    workers=5,\n",
    ")"
   ]
  },
  {
   "cell_type": "markdown",
   "metadata": {},
   "source": [
    "### Evaluate result"
   ]
  },
  {
   "cell_type": "code",
   "execution_count": 11,
   "metadata": {},
   "outputs": [],
   "source": [
    "corpus_in_LDA_space = lda_model[tfidf[bow_corpus]]"
   ]
  },
  {
   "cell_type": "code",
   "execution_count": 12,
   "metadata": {},
   "outputs": [],
   "source": [
    "sim_index = SparseMatrixSimilarity(corpus_in_LDA_space, num_features=lda_model.num_topics)"
   ]
  },
  {
   "cell_type": "code",
   "execution_count": 13,
   "metadata": {},
   "outputs": [
    {
     "name": "stdout",
     "output_type": "stream",
     "text": [
      "Similar item for id:3725633637\n",
      "==============================\n",
      "id:3561536243 (Score: 0.45741)\n",
      "id:1536741054 (Score: 0.38966)\n",
      "id:2070600742 (Score: 0.38789)\n",
      "id:1726651554 (Score: 0.32497)\n",
      "id:3062776333 (Score: 0.31964)\n",
      "id:3516060230 (Score: 0.31391)\n",
      "id:1424765452 (Score: 0.30046)\n",
      "id:5614401466 (Score: 0.29848)\n",
      "id:3005551154 (Score: 0.29343)\n"
     ]
    }
   ],
   "source": [
    "my_index = 49\n",
    "\n",
    "print(\"Similar item for id:%s\" % documents.index[my_index])\n",
    "print(\"==============================\")\n",
    "scores = sim_index[corpus_in_LDA_space[my_index]]\n",
    "for position in (-scores).argsort()[:10]:\n",
    "    if position != my_index:\n",
    "        print(\"id:%s (Score: %.5f)\" % (documents.index[position], scores[position]))\n"
   ]
  },
  {
   "cell_type": "code",
   "execution_count": null,
   "metadata": {},
   "outputs": [],
   "source": []
  }
 ],
 "metadata": {
  "kernelspec": {
   "display_name": "Python 3",
   "language": "python",
   "name": "python3"
  },
  "language_info": {
   "codemirror_mode": {
    "name": "ipython",
    "version": 3
   },
   "file_extension": ".py",
   "mimetype": "text/x-python",
   "name": "python",
   "nbconvert_exporter": "python",
   "pygments_lexer": "ipython3",
   "version": "3.6.5"
  }
 },
 "nbformat": 4,
 "nbformat_minor": 2
}
